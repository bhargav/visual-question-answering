{
 "cells": [
  {
   "cell_type": "code",
   "execution_count": 1,
   "metadata": {
    "collapsed": false
   },
   "outputs": [],
   "source": [
    "import json\n",
    "import numpy as np\n",
    "import scipy.io as sio\n",
    "import argparse\n",
    "\n",
    "import lessdummy1 as utilities\n",
    "import cocoIDToFeatures as cocoImageUtils\n",
    "\n",
    "tfile = '../features/coco_vgg_IDMap.txt'\n",
    "\n",
    "args = {}\n",
    "args['answer_vector_file']='answer_feature_list.json'\n",
    "args['glove_file']='../glove/glove.6B.300d.txt'"
   ]
  },
  {
   "cell_type": "code",
   "execution_count": 2,
   "metadata": {
    "collapsed": false
   },
   "outputs": [
    {
     "name": "stdout",
     "output_type": "stream",
     "text": [
      "Reading GloVE and VGG raw files\n",
      "Reading the data and creating features\n"
     ]
    }
   ],
   "source": [
    "print \"Reading GloVE and VGG raw files\"\n",
    "\n",
    "glove_word_vec_file = args['glove_file']\n",
    "word_vec_dict = utilities.readGloveData(glove_word_vec_file)\n",
    "\n",
    "imageDict = cocoImageUtils.generateDictionary(tfile)\n",
    "feats = sio.loadmat('./../features/coco/vgg_feats.mat')['feats']\n",
    "\n",
    "print \"Reading the data and creating features\"\n",
    "\n",
    "answer_vector_file = open(args['answer_vector_file'], 'r')\n",
    "answerFeatureVector = json.loads(answer_vector_file.read())\n",
    "\n",
    "answer_vector_file.close()"
   ]
  },
  {
   "cell_type": "code",
   "execution_count": 3,
   "metadata": {
    "collapsed": false
   },
   "outputs": [
    {
     "name": "stdout",
     "output_type": "stream",
     "text": [
      "loading VQA annotations and questions into memory...\n",
      "0:00:17.954870\n",
      "creating index...\n",
      "index created!\n",
      "loading VQA annotations and questions into memory...\n",
      "0:00:22.296286\n",
      "creating index...\n",
      "index created!\n"
     ]
    }
   ],
   "source": [
    "import sys\n",
    "sys.path.insert(0, './../VQA/PythonHelperTools')\n",
    "from vqaTools.vqa import VQA\n",
    "\n",
    "dataDir = './../VQA'\n",
    "taskType = 'MultipleChoice'\n",
    "dataType = 'mscoco' # 'mscoco' for real and 'abstract_v002' for abstract\n",
    "dataSubType = 'train2014'\n",
    "annFile = '%s/Annotations/%s_%s_annotations.json' % (dataDir, dataType, dataSubType)\n",
    "quesFile = '%s/Questions/%s_%s_%s_questions.json' % (dataDir, taskType, dataType, dataSubType)\n",
    "imgDir = '%s/Images/%s/%s/' % (dataDir, dataType, dataSubType)\n",
    "vqaTrain = VQA(annFile, quesFile)\n",
    "dummyano = vqaTrain.dataset['annotations']\n",
    "answerFeatures = utilities.createAnswerFeatures(dummyano)\n",
    "\n",
    "vqaVal = VQA(annFile, quesFile)"
   ]
  },
  {
   "cell_type": "code",
   "execution_count": 4,
   "metadata": {
    "collapsed": false
   },
   "outputs": [],
   "source": [
    "dataset = []\n",
    "\n",
    "numQuestions = 10000\n",
    "q = 0\n",
    "for quesID, annotation in vqaVal.qa.iteritems():\n",
    "    q += 1\n",
    "    if q == numQuestions:\n",
    "        break\n",
    "        \n",
    "    question = vqaVal.qqa[quesID]\n",
    "    question_text = question['question'].strip().replace('?', ' ?').split()\n",
    "    imgID = annotation['image_id']\n",
    "    ansString = annotation['multiple_choice_answer']\n",
    "    \n",
    "    dataset.append({'question': question_text, 'answer': ansString, 'image': imgID})"
   ]
  },
  {
   "cell_type": "code",
   "execution_count": 5,
   "metadata": {
    "collapsed": false
   },
   "outputs": [
    {
     "name": "stdout",
     "output_type": "stream",
     "text": [
      "Counter({6: 2573, 7: 2068, 8: 1540, 5: 1390, 9: 1031, 10: 521, 4: 296, 11: 248, 12: 159, 13: 77, 14: 42, 15: 27, 16: 17, 17: 9, 18: 1})\n",
      "Max Question Length =  18\n"
     ]
    }
   ],
   "source": [
    "from collections import Counter\n",
    "\n",
    "c = Counter([len(x['question']) for x in dataset])\n",
    "maxlen = max(c.keys())\n",
    "print c\n",
    "print \"Max Question Length = \", maxlen"
   ]
  },
  {
   "cell_type": "code",
   "execution_count": 6,
   "metadata": {
    "collapsed": false
   },
   "outputs": [],
   "source": [
    "maxlen = 23\n",
    "nb_train = len(dataset)\n",
    "nb_timestep = maxlen + 1 # For Image Vector\n",
    "word_vec_dim = len(word_vec_dict['hi'])\n",
    "image_dim = 4096"
   ]
  },
  {
   "cell_type": "markdown",
   "metadata": {},
   "source": [
    "### Building the LSTM Model###"
   ]
  },
  {
   "cell_type": "markdown",
   "metadata": {},
   "source": [
    "**Create the LSTM model**"
   ]
  },
  {
   "cell_type": "code",
   "execution_count": 7,
   "metadata": {
    "collapsed": false
   },
   "outputs": [
    {
     "name": "stdout",
     "output_type": "stream",
     "text": [
      "Using Theano backend.\n",
      "Couldn't import dot_parser, loading of dot files will not be possible.\n"
     ]
    }
   ],
   "source": [
    "from lstm_single_answer import LSTMSingleAnswerModel\n",
    "\n",
    "lstm_model = LSTMSingleAnswerModel()\n",
    "model = lstm_model.getModel(4096, 300, 1000)"
   ]
  },
  {
   "cell_type": "markdown",
   "metadata": {},
   "source": [
    "**Generating X_train and Y_train**"
   ]
  },
  {
   "cell_type": "code",
   "execution_count": 12,
   "metadata": {
    "collapsed": false
   },
   "outputs": [],
   "source": [
    "def transformToModelInput(self, dataset, answerFeatureVector, word_vec_dict):\n",
    "        nb_train = len(dataset)\n",
    "        input_size = 300\n",
    "        X_train = np.zeros(shape=(nb_train, self.nb_timestep, input_size))\n",
    "        Image_train = np.zeros(shape=(nb_train, 4096))\n",
    "        Y_train = np.zeros(shape=(nb_train, len(answerFeatureVector)))\n",
    "\n",
    "        maxlen = self.nb_timestep\n",
    "\n",
    "        idx = 0\n",
    "        for input_item in dataset:\n",
    "            q = input_item['question']\n",
    "            padding = maxlen - len(q)\n",
    "            for i in xrange(padding):\n",
    "                X_train[idx, i, :] = np.zeros(input_size)\n",
    "\n",
    "            for word in q:\n",
    "                X_train[idx, padding, :] = utilities.getWordVector(word, word_vec_dict)\n",
    "            Y_train[idx, :] = utilities.getAnswerVector(input_item['answer'], answerFeatureVector)\n",
    "\n",
    "            Image_train[idx, :] = np.asarray(feats[:, imageDict[input_item['image']]])\n",
    "\n",
    "            idx += 1\n",
    "\n",
    "        return (X_train, Image_train, Y_train)\n",
    "\n",
    "(X_train, Image_train, Y_train) = transformToModelInput(lstm_model, dataset, answerFeatureVector, word_vec_dict)"
   ]
  },
  {
   "cell_type": "code",
   "execution_count": null,
   "metadata": {
    "collapsed": false
   },
   "outputs": [
    {
     "name": "stdout",
     "output_type": "stream",
     "text": [
      "Train on 8999 samples, validate on 1000 samples\n",
      "Epoch 1/5\n",
      " 896/8999 [=>............................] - ETA: 298s - loss: 6.7513 - acc: 0.2254"
     ]
    }
   ],
   "source": [
    "model.fit([Image_train, X_train], Y_train, nb_epoch=5, validation_split=0.1, show_accuracy=True, verbose=1)"
   ]
  },
  {
   "cell_type": "code",
   "execution_count": null,
   "metadata": {
    "collapsed": false
   },
   "outputs": [],
   "source": [
    "print model.to_json()"
   ]
  },
  {
   "cell_type": "code",
   "execution_count": null,
   "metadata": {
    "collapsed": true
   },
   "outputs": [],
   "source": []
  }
 ],
 "metadata": {
  "kernelspec": {
   "display_name": "Python 2",
   "language": "python",
   "name": "python2"
  },
  "language_info": {
   "codemirror_mode": {
    "name": "ipython",
    "version": 2
   },
   "file_extension": ".py",
   "mimetype": "text/x-python",
   "name": "python",
   "nbconvert_exporter": "python",
   "pygments_lexer": "ipython2",
   "version": "2.7.11"
  }
 },
 "nbformat": 4,
 "nbformat_minor": 0
}
